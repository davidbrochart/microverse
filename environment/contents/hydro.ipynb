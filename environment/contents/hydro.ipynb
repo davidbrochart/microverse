{
 "cells": [
  {
   "cell_type": "code",
   "execution_count": null,
   "id": "5f2bdebb-05e4-44ad-94a4-ec9b7c8abdfa",
   "metadata": {
    "tags": []
   },
   "outputs": [],
   "source": [
    "from functools import partial\n",
    "\n",
    "import numpy as np\n",
    "import pandas as pd\n",
    "from python.hydro import DownhillSimplex, make_simplex, calibration, nse, nse_min\n",
    "\n",
    "# there is a pure-Python implementation of GR4J (python.hydro)\n",
    "# pydro is a Cython implementation and is much faster\n",
    "# from python.hydro import GR4J  # slow\n",
    "from pydro.pydro import GR4J  # fast"
   ]
  },
  {
   "cell_type": "markdown",
   "id": "4d65808a-0cec-40eb-b64a-67240776941a",
   "metadata": {},
   "source": [
    "The data comes from [airGR](), and was saved to CSV using these commands in an R console:\n",
    "```R\n",
    "install.packages(\"airGR\")\n",
    "library(airGR)\n",
    "data(L0123001)\n",
    "write.csv(BasinObs, \"airGR_L012301.csv\")\n",
    "```\n",
    "It was then included in the bundle for this web site, and can be accessed in the `data` directory.\n",
    "\n",
    "We load it in [pandas](https://pandas.pydata.org)."
   ]
  },
  {
   "cell_type": "code",
   "execution_count": null,
   "id": "dec9fbda-4f34-4ac7-a3e0-91c599ddda0d",
   "metadata": {
    "tags": []
   },
   "outputs": [],
   "source": [
    "df = pd.read_csv(\"data/airGR_L012301.csv\")\n",
    "peq = df.rename(columns={\"DatesR\": \"t\", \"P\": \"p\", \"E\": \"e\", \"Qmm\": \"q\"})\n",
    "peq = peq.set_index(pd.to_datetime(peq.t))[[\"p\", \"e\", \"q\"]]"
   ]
  },
  {
   "cell_type": "markdown",
   "id": "1dba4477-f6eb-4462-bc21-9b63b699210d",
   "metadata": {},
   "source": [
    "Now we calibrate the [GR4J](https://webgr.inrae.fr/en/models/daily-hydrological-model-gr4j) hydrological model using precipitation and PET as inputs, and observed discharge as output."
   ]
  },
  {
   "cell_type": "code",
   "execution_count": null,
   "id": "ed3c6a10-7611-40ac-8c51-12d6fe0644f7",
   "metadata": {
    "tags": []
   },
   "outputs": [],
   "source": [
    "x_range = [[0., np.inf], [-np.inf, np.inf], [0., np.inf], [0., np.inf]]\n",
    "x_init = [100, 0, 100, 1]\n",
    "warmup_period = 365\n",
    "x, *_ = DownhillSimplex(\n",
    "    partial(\n",
    "        calibration,\n",
    "        in_obs=[peq.p.values, peq.e.values],\n",
    "        out_obs=[peq.q.values],\n",
    "        warmup_period=warmup_period,\n",
    "        crit_func=nse_min,\n",
    "        model=GR4J,\n",
    "        x_range=x_range\n",
    "    ),\n",
    "    make_simplex(x_init)).run()\n",
    "q_mod = GR4J(x)\n",
    "peq[\"q_sim\"] = q_mod.run([peq.p.values, peq.e.values])[0]\n",
    "print(f\"{x=}\")\n",
    "print(f\"NSE={nse(peq.q, peq.q_sim)}\")"
   ]
  }
 ],
 "metadata": {
  "kernelspec": {
   "display_name": "Python 3 (ipykernel)",
   "language": "python",
   "name": "python3"
  },
  "language_info": {
   "codemirror_mode": {
    "name": "ipython",
    "version": 3
   },
   "file_extension": ".py",
   "mimetype": "text/x-python",
   "name": "python",
   "nbconvert_exporter": "python",
   "pygments_lexer": "ipython3",
   "version": "3.11.0"
  }
 },
 "nbformat": 4,
 "nbformat_minor": 5
}
